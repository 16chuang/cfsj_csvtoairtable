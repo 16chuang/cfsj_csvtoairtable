{
 "cells": [
  {
   "cell_type": "code",
   "execution_count": 19,
   "metadata": {},
   "outputs": [],
   "source": [
    "#Functions for parsing columns of the spreadsheet on Santa Clara County School Meals\n",
    "import re\n",
    "\n",
    "def fcnparse_opendays(stringopendays):\n",
    "    print(stringopendays)\n",
    "    \n",
    "def fcnparse_siteaddress(csvaddress):\n",
    "    myoutput = nominatim.query(csvaddress+ ' California')\n",
    "    if len(myoutput.toJSON())>0:\n",
    "        myjson = myoutput.toJSON()[0]\n",
    "    \n",
    "        #print(myjson)\n",
    "        #print(type(myjson))\n",
    "        full_address = myjson['display_name']\n",
    "        #print(full_address)\n",
    "        #print(type(full_address))\n",
    "\n",
    "        tmp = full_address.split(', ')\n",
    "        #print(tmp)\n",
    "       \n",
    "        if tmp[0].isnumeric():\n",
    "            address = tmp[0]+\" \"+tmp[1]\n",
    "            city = tmp[-5:-4][0]\n",
    "            state = tmp[-3:-2][0]\n",
    "            zipcode = tmp[-2:-1][0]            \n",
    "        elif tmp[1].isnumeric():\n",
    "            address = tmp[1]+\" \"+tmp[2]\n",
    "            city = tmp[-5:-4][0]\n",
    "            state = tmp[-3:-2][0]\n",
    "            zipcode = tmp[-2:-1][0]\n",
    "        else:\n",
    "            address = csvaddress+\" ######CHECK ME######\"\n",
    "            city = \"######CHECK ME######\"\n",
    "            zipcode = \"######CHECK ME######\"\n",
    "            state = \"California\"\n",
    "    else:\n",
    "        full_address = \"\"\n",
    "        address = csvaddress+\"######CHECK ME######\"\n",
    "        city = \"######CHECK ME######\"\n",
    "        zipcode = \"######CHECK ME######\"\n",
    "        state = \"California\"\n",
    "        \n",
    "    return full_address, address, city, state, zipcode\n",
    "\n",
    "def fcnparse_opendays(attributesOPENDAYS):\n",
    "    return [\"Monday\",\"Tuesday\",\"Thursday\"]\n",
    "\n",
    "def fcnparse_opentimes(attributesOPENTIMES):\n",
    "    return \"2:00 PM\", \"6:00 PM\"\n",
    "\n",
    "def fcnparse_mealtypes(attributesMEALTYPES):\n",
    "    #print(attributesMEALTYPES)\n",
    "    mealoptions = []\n",
    "    if re.search('breakfast', attributesMEALTYPES, re.IGNORECASE):\n",
    "        mealoptions = mealoptions + [\"Breakfast\", ]\n",
    "    if re.search('lunch', attributesMEALTYPES, re.IGNORECASE):\n",
    "        mealoptions = mealoptions + [\"Lunch\", ]  \n",
    "    if re.search('dinner', attributesMEALTYPES, re.IGNORECASE):\n",
    "        mealoptions = mealoptions + [\"Dinner\", ]   \n",
    "\n",
    "    #print(mealoptions)\n",
    "    return mealoptions\n"
   ]
  },
  {
   "cell_type": "code",
   "execution_count": 20,
   "metadata": {},
   "outputs": [],
   "source": [
    "#Code to scrape Santa Clara County school meal sites\n",
    "import requests\n",
    "import csv\n",
    "from OSMPythonTools.nominatim import Nominatim\n",
    "nominatim = Nominatim()\n",
    "\n",
    "post_url_services = 'https://api.airtable.com/v0/applQOkth8R2ns3qo/services'\n",
    "post_url_organizations = 'https://api.airtable.com/v0/applQOkth8R2ns3qo/organizations'\n",
    "post_url_address = 'https://api.airtable.com/v0/applQOkth8R2ns3qo/address'\n",
    "post_url_schedule = 'https://api.airtable.com/v0/applQOkth8R2ns3qo/schedule'\n",
    "\n",
    "post_headers = {\n",
    "    'Authorization' : 'Bearer keyFaCMgt8zX71GnJ',\n",
    "    'Content-Type': 'application/json'\n",
    "}\n",
    "\n",
    "f = open('/Users/Ashwin/Documents/BAC/20200919cfsj/Santa Clara Scrape 10_1 - Food School Meal Sites .csv')\n",
    "csv_f = csv.reader(f)\n",
    "\n",
    "#Skip header row\n",
    "count = 1\n",
    "for row in csv_f:\n",
    "    if count == 1:\n",
    "        break\n",
    "\n",
    "count = 1\n",
    "for row in csv_f:\n",
    "    #print(row)\n",
    "    rowcount = 0\n",
    "    for elem in row:\n",
    "        #print(rowcount, elem)\n",
    "        rowcount = rowcount+1\n",
    "    \n",
    "    #Parse data for ORGANIZATIONS sheet: attributes.SITESCHOOLDISTRICT\n",
    "    attributesSITESCHOOLDISTRICT = row[4]\n",
    "    airtableORGANIZATIONS = {\"fields\": {\"name\": attributesSITESCHOOLDISTRICT}}\n",
    "\n",
    "    #Parse data for SERVICES sheet: attributes.SITENAME, attributes.MEALTYPES\n",
    "    attributesSITENAME = row[5]\n",
    "    attributesMEALTYPES = fcnparse_mealtypes(row[10])\n",
    "    airtableSERVICES = {\"fields\": {\"Name\": attributesSITENAME, \"freefood_area\": attributesMEALTYPES}}\n",
    "    \n",
    "    #Parse data for ADDRESS sheet: attributes.SITEADDRESS   \n",
    "    attributesSITEADDRESS = row[6]\n",
    "    #print(attributesSITEADDRESS)\n",
    "    full_address, address, city, state, zipcode = fcnparse_siteaddress(attributesSITEADDRESS)\n",
    "    #print(full_address)\n",
    "    #print(count+1, address, city, state, zipcode, '\\n')\n",
    "    airtableADDRESS = {\"fields\": {\"address_1\": address,\"city\": city,\"State\": state,\"Zip Code\": zipcode}} \n",
    "        \n",
    "    #Parse data for SCHEDULE sheet: attributes.OPENDAYS, attributes.OPENTIMES\n",
    "    attributesOPENDAYS = row[7]\n",
    "    attributesOPENTIMES = row[8]\n",
    "    opendays = fcnparse_opendays(attributesOPENDAYS)\n",
    "    opensat, closesat = fcnparse_opentimes(attributesOPENTIMES)\n",
    "    airtableSCHEDULE = {\"fields\": {\"weekday\": opendays, \"opens_at\": opensat, \"closes_at\": closesat}} \n",
    "    \n",
    "    #Upload to airtable\n",
    "    ((requests.post(post_url_organizations, headers = post_headers, json = airtableORGANIZATIONS)).status_code)    \n",
    "    ((requests.post(post_url_services, headers = post_headers, json = airtableSERVICES)).status_code)    \n",
    "    ((requests.post(post_url_address, headers = post_headers, json = airtableADDRESS)).status_code)    \n",
    "    ((requests.post(post_url_schedule, headers = post_headers, json = airtableSCHEDULE)).status_code)\n",
    "\n",
    "    count = count + 1\n",
    "    #if count == 20:\n",
    "    #    break    "
   ]
  },
  {
   "cell_type": "code",
   "execution_count": 6,
   "metadata": {},
   "outputs": [
    {
     "name": "stdout",
     "output_type": "stream",
     "text": [
      "[nominatim] downloading data: 3190 Quimby Road, San Jose\n",
      "<OSMPythonTools.nominatim.NominatimResult object at 0x7fa3f2b15850>\n",
      "[{'place_id': 181403170, 'licence': 'Data © OpenStreetMap contributors, ODbL 1.0. https://osm.org/copyright', 'osm_type': 'way', 'osm_id': 415871978, 'boundingbox': ['37.323789', '37.323943', '-121.8090081', '-121.8083484'], 'lat': '37.3238527', 'lon': '-121.8087368', 'display_name': 'Quimby Road, Meadowfair, Evergreen, San Jose, Santa Clara County, California, 95121, United States of America', 'class': 'highway', 'type': 'secondary', 'importance': 0.5}, {'place_id': 180951783, 'licence': 'Data © OpenStreetMap contributors, ODbL 1.0. https://osm.org/copyright', 'osm_type': 'way', 'osm_id': 415868920, 'boundingbox': ['37.3248918', '37.3249591', '-121.7829422', '-121.7821613'], 'lat': '37.3249491', 'lon': '-121.7823357', 'display_name': 'Quimby Road, Evergreen, San Jose, Santa Clara County, California, 95148, United States of America', 'class': 'highway', 'type': 'secondary', 'importance': 0.5}, {'place_id': 181285474, 'licence': 'Data © OpenStreetMap contributors, ODbL 1.0. https://osm.org/copyright', 'osm_type': 'way', 'osm_id': 415871976, 'boundingbox': ['37.3255133', '37.3261196', '-121.8202289', '-121.8195655'], 'lat': '37.325748', 'lon': '-121.8198261', 'display_name': 'Quimby Road, Meadowfair, Evergreen, San Jose, Santa Clara County, California, 95122, United States of America', 'class': 'highway', 'type': 'secondary', 'importance': 0.5}, {'place_id': 175857682, 'licence': 'Data © OpenStreetMap contributors, ODbL 1.0. https://osm.org/copyright', 'osm_type': 'way', 'osm_id': 385454148, 'boundingbox': ['37.3249596', '37.3249854', '-121.7975299', '-121.797404'], 'lat': '37.3249854', 'lon': '-121.7975299', 'display_name': 'Quimby Road, Meadowfair, Evergreen, San Jose, Santa Clara County, California, 95148, United States of America', 'class': 'highway', 'type': 'secondary', 'importance': 0.5}, {'place_id': 208807818, 'licence': 'Data © OpenStreetMap contributors, ODbL 1.0. https://osm.org/copyright', 'osm_type': 'way', 'osm_id': 614540743, 'boundingbox': ['37.3235791', '37.323789', '-121.8099571', '-121.8090081'], 'lat': '37.3237167', 'lon': '-121.8093351', 'display_name': 'Quimby Road, Meadowfair, Evergreen, San Jose, Santa Clara County, California, 95121-1294, United States of America', 'class': 'highway', 'type': 'secondary', 'importance': 0.5}, {'place_id': 159873350, 'licence': 'Data © OpenStreetMap contributors, ODbL 1.0. https://osm.org/copyright', 'osm_type': 'way', 'osm_id': 306334256, 'boundingbox': ['37.3226536', '37.3255133', '-121.8195655', '-121.815924'], 'lat': '37.3236582', 'lon': '-121.817658', 'display_name': 'Quimby Road, Eastridge Center, Evergreen, San Jose, Santa Clara County, California, 95122, United States of America', 'class': 'highway', 'type': 'secondary', 'importance': 0.5}, {'place_id': 107337845, 'licence': 'Data © OpenStreetMap contributors, ODbL 1.0. https://osm.org/copyright', 'osm_type': 'way', 'osm_id': 94458132, 'boundingbox': ['37.3262561', '37.3268548', '-121.8207909', '-121.8203375'], 'lat': '37.3264649', 'lon': '-121.8205438', 'display_name': 'Quimby Road, Meadowfair, Alum Rock, San Jose, Santa Clara County, California, 95122, United States of America', 'class': 'highway', 'type': 'tertiary', 'importance': 0.5}, {'place_id': 99951716, 'licence': 'Data © OpenStreetMap contributors, ODbL 1.0. https://osm.org/copyright', 'osm_type': 'way', 'osm_id': 51133757, 'boundingbox': ['37.3305298', '37.3361763', '-121.7662237', '-121.7554272'], 'lat': '37.3339528', 'lon': '-121.7609656', 'display_name': 'Quimby Road, Evergreen, San Jose, Santa Clara County, California, 95148, United States of America', 'class': 'highway', 'type': 'tertiary', 'importance': 0.5}, {'place_id': 99950067, 'licence': 'Data © OpenStreetMap contributors, ODbL 1.0. https://osm.org/copyright', 'osm_type': 'way', 'osm_id': 55647830, 'boundingbox': ['37.339578', '37.342245', '-121.731844', '-121.721976'], 'lat': '37.341703', 'lon': '-121.727254', 'display_name': 'Quimby Road, Santa Clara County, California, United States of America', 'class': 'highway', 'type': 'residential', 'importance': 0.4}]\n",
      "9\n",
      "{'place_id': 181403170, 'licence': 'Data © OpenStreetMap contributors, ODbL 1.0. https://osm.org/copyright', 'osm_type': 'way', 'osm_id': 415871978, 'boundingbox': ['37.323789', '37.323943', '-121.8090081', '-121.8083484'], 'lat': '37.3238527', 'lon': '-121.8087368', 'display_name': 'Quimby Road, Meadowfair, Evergreen, San Jose, Santa Clara County, California, 95121, United States of America', 'class': 'highway', 'type': 'secondary', 'importance': 0.5}\n",
      "<class 'dict'>\n",
      "Quimby Road, Meadowfair, Evergreen, San Jose, Santa Clara County, California, 95121, United States of America\n",
      "<class 'str'>\n",
      "['Quimby Road', 'Meadowfair', 'Evergreen', 'San Jose', 'Santa Clara County', 'California', '95121', 'United States of America']\n",
      "Quimby Road\n",
      "False\n",
      "3190 Quimby Road, San Jose ######CHECK ME######\n",
      "######CHECK ME######\n",
      "California\n",
      "######CHECK ME######\n"
     ]
    }
   ],
   "source": [
    "from OSMPythonTools.nominatim import Nominatim\n",
    "nominatim = Nominatim()\n",
    "#myoutput = nominatim.query('1680 Foley ave')\n",
    "#print(myoutput.toJSON())\n",
    "csvaddress = '3190 Quimby Road, San Jose'\n",
    "myoutput = nominatim.query(csvaddress)\n",
    "print(myoutput)\n",
    "print(myoutput.toJSON())\n",
    "print(len(myoutput.toJSON()))\n",
    "myjson = myoutput.toJSON()[0]\n",
    "print(myjson)\n",
    "print(type(myjson))\n",
    "full_address = myjson['display_name']\n",
    "print(full_address)\n",
    "print(type(full_address))\n",
    "\n",
    "tmp = full_address.split(', ')\n",
    "print(tmp)\n",
    "firstelem = tmp[0]\n",
    "print(firstelem)\n",
    "print(firstelem.isnumeric())\n",
    "if tmp[0].isnumeric():\n",
    "    address = tmp[0]+\" \"+tmp[1]\n",
    "    city = tmp[-5:-4][0]\n",
    "    state = tmp[-3:-2][0]\n",
    "    zipcode = tmp[-2:-1][0]            \n",
    "elif tmp[1].isnumeric():\n",
    "    address = tmp[1]+\" \"+tmp[2]\n",
    "    city = tmp[-5:-4][0]\n",
    "    state = tmp[-3:-2][0]\n",
    "    zipcode = tmp[-2:-1][0]\n",
    "else:\n",
    "    address = csvaddress+\" ######CHECK ME######\"\n",
    "    city = \"######CHECK ME######\"\n",
    "    zipcode = \"######CHECK ME######\"\n",
    "    state = \"California\"\n",
    "\n",
    "print(address)\n",
    "print(city)\n",
    "print(state)\n",
    "print(zipcode)"
   ]
  },
  {
   "cell_type": "code",
   "execution_count": 87,
   "metadata": {},
   "outputs": [
    {
     "name": "stdout",
     "output_type": "stream",
     "text": [
      "yup empty\n"
     ]
    }
   ],
   "source": [
    "if ~len([]):\n",
    "    print(\"yup empty\")"
   ]
  },
  {
   "cell_type": "code",
   "execution_count": 113,
   "metadata": {},
   "outputs": [
    {
     "ename": "NameError",
     "evalue": "name 'isnumeric' is not defined",
     "output_type": "error",
     "traceback": [
      "\u001b[0;31m---------------------------------------------------------------------------\u001b[0m",
      "\u001b[0;31mNameError\u001b[0m                                 Traceback (most recent call last)",
      "\u001b[0;32m<ipython-input-113-a7cb0fd9d28f>\u001b[0m in \u001b[0;36m<module>\u001b[0;34m\u001b[0m\n\u001b[0;32m----> 1\u001b[0;31m \u001b[0misnumeric\u001b[0m\u001b[0;34m(\u001b[0m\u001b[0;36m1680\u001b[0m\u001b[0;34m)\u001b[0m\u001b[0;34m\u001b[0m\u001b[0;34m\u001b[0m\u001b[0m\n\u001b[0m",
      "\u001b[0;31mNameError\u001b[0m: name 'isnumeric' is not defined"
     ]
    }
   ],
   "source": [
    "isnumeric(1680)"
   ]
  },
  {
   "cell_type": "code",
   "execution_count": 123,
   "metadata": {},
   "outputs": [
    {
     "name": "stdout",
     "output_type": "stream",
     "text": [
      "True\n"
     ]
    }
   ],
   "source": [
    "#blah = '1680'\n",
    "#blah.isdigit()\n",
    "print(1!=2)"
   ]
  },
  {
   "cell_type": "code",
   "execution_count": 11,
   "metadata": {},
   "outputs": [
    {
     "name": "stdout",
     "output_type": "stream",
     "text": [
      "The original tuple 1 : [1, 3, 5]\n",
      "The original tuple 2 : [4]\n",
      "The tuple after concatenation is : [1, 3, 5, 4]\n"
     ]
    }
   ],
   "source": [
    "test_tup1 = [1, 3, 5] \n",
    "test_tup2 = [4,]\n",
    "  \n",
    "# printing original tuples \n",
    "print(\"The original tuple 1 : \" + str(test_tup1)) \n",
    "print(\"The original tuple 2 : \" + str(test_tup2)) \n",
    "  \n",
    "# Ways to concatenate tuples \n",
    "# using + operator \n",
    "res = test_tup1 + test_tup2 \n",
    "  \n",
    "# printing result \n",
    "print(\"The tuple after concatenation is : \" + str(res))"
   ]
  },
  {
   "cell_type": "code",
   "execution_count": 13,
   "metadata": {},
   "outputs": [],
   "source": [
    "import re\n",
    "\n",
    "if re.search('mandye', 'Mandy Pande', re.IGNORECASE):\n",
    "    print(\"Yes found\")"
   ]
  },
  {
   "cell_type": "code",
   "execution_count": null,
   "metadata": {},
   "outputs": [],
   "source": []
  }
 ],
 "metadata": {
  "kernelspec": {
   "display_name": "Python 3",
   "language": "python",
   "name": "python3"
  },
  "language_info": {
   "codemirror_mode": {
    "name": "ipython",
    "version": 3
   },
   "file_extension": ".py",
   "mimetype": "text/x-python",
   "name": "python",
   "nbconvert_exporter": "python",
   "pygments_lexer": "ipython3",
   "version": "3.8.3"
  }
 },
 "nbformat": 4,
 "nbformat_minor": 4
}
